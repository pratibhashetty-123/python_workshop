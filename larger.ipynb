{
  "nbformat": 4,
  "nbformat_minor": 0,
  "metadata": {
    "colab": {
      "name": "Untitled5.ipynb",
      "provenance": [],
      "authorship_tag": "ABX9TyNEOE7wp9SS3ex1SftBJ6Ix",
      "include_colab_link": true
    },
    "kernelspec": {
      "name": "python3",
      "display_name": "Python 3"
    }
  },
  "cells": [
    {
      "cell_type": "markdown",
      "metadata": {
        "id": "view-in-github",
        "colab_type": "text"
      },
      "source": [
        "<a href=\"https://colab.research.google.com/github/pratibhashetty-123/python_workshop/blob/master/larger.ipynb\" target=\"_parent\"><img src=\"https://colab.research.google.com/assets/colab-badge.svg\" alt=\"Open In Colab\"/></a>"
      ]
    },
    {
      "cell_type": "code",
      "metadata": {
        "id": "es5yu5RBu5eE",
        "colab_type": "code",
        "colab": {
          "base_uri": "https://localhost:8080/",
          "height": 34
        },
        "outputId": "b88b7627-d00a-4807-b1f8-44b41c666314"
      },
      "source": [
        "n1 = 5\n",
        "\n",
        "n2 = 10\n",
        "\n",
        "n3 = 15\n",
        "\n",
        "n4 = 20\n",
        "\n",
        "  \n",
        "\n",
        "mx = (n1 if (n1 > n2 and n1 > n2 and n1 > n4)  \n",
        "\n",
        "         else (n2 if (n2 > n3 and n3 > n4)  \n",
        "\n",
        "         else (n3 if n3 > n4 else n4))) \n",
        "\n",
        "  \n",
        "# str() function is used to convert  \n",
        "# integer to string, it is required  \n",
        "# as we are concatenating integers \n",
        "# with string \n",
        "\n",
        "print(\"Largest number among \" + str(n1) + \", \" + \n",
        "\n",
        "            str(n2) + \", \" + str(n3) + \" and \" + \n",
        "\n",
        "            str(n4) + \" is \" + str(mx))"
      ],
      "execution_count": 1,
      "outputs": [
        {
          "output_type": "stream",
          "text": [
            "Largest number among 5, 10, 15 and 20 is 20\n"
          ],
          "name": "stdout"
        }
      ]
    }
  ]
}