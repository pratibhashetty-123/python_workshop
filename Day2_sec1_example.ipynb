{
  "nbformat": 4,
  "nbformat_minor": 0,
  "metadata": {
    "colab": {
      "name": "Untitled16.ipynb",
      "provenance": [],
      "authorship_tag": "ABX9TyM/ePHKNV6/72AlNzK5fyEU",
      "include_colab_link": true
    },
    "kernelspec": {
      "name": "python3",
      "display_name": "Python 3"
    }
  },
  "cells": [
    {
      "cell_type": "markdown",
      "metadata": {
        "id": "view-in-github",
        "colab_type": "text"
      },
      "source": [
        "<a href=\"https://colab.research.google.com/github/pratibhashetty-123/python_workshop/blob/master/Day2_sec1_example.ipynb\" target=\"_parent\"><img src=\"https://colab.research.google.com/assets/colab-badge.svg\" alt=\"Open In Colab\"/></a>"
      ]
    },
    {
      "cell_type": "code",
      "metadata": {
        "id": "41WHdxwLzes9",
        "colab_type": "code",
        "colab": {}
      },
      "source": [
        ""
      ],
      "execution_count": null,
      "outputs": []
    },
    {
      "cell_type": "markdown",
      "metadata": {
        "id": "R05RrYWv1NBF",
        "colab_type": "text"
      },
      "source": [
        " Program to find the largest number in a list.¶"
      ]
    },
    {
      "cell_type": "code",
      "metadata": {
        "id": "0LGIAXQC1Ozi",
        "colab_type": "code",
        "colab": {
          "base_uri": "https://localhost:8080/",
          "height": 121
        },
        "outputId": "a2ce9fd1-80c2-487c-b240-2fcbf381db05"
      },
      "source": [
        " a=[]\n",
        "n=int(input(\"Enter number of elements:\"))\n",
        "for i in range(1,n+1):\n",
        "    b=int(input(\"Enter element:\"))\n",
        "    a.append(b)\n",
        "a.sort()\n",
        "print(\"Largest element is:\",a[n-1])"
      ],
      "execution_count": 1,
      "outputs": [
        {
          "output_type": "stream",
          "text": [
            "Enter number of elements:4\n",
            "Enter element:2\n",
            "Enter element:7\n",
            "Enter element:9\n",
            "Enter element:22\n",
            "Largest element is: 22\n"
          ],
          "name": "stdout"
        }
      ]
    },
    {
      "cell_type": "markdown",
      "metadata": {
        "id": "RsRnJ4mX2NBp",
        "colab_type": "text"
      },
      "source": [
        ""
      ]
    },
    {
      "cell_type": "code",
      "metadata": {
        "id": "Ys6G9_Ty2Nkk",
        "colab_type": "code",
        "colab": {}
      },
      "source": [
        ""
      ],
      "execution_count": null,
      "outputs": []
    },
    {
      "cell_type": "markdown",
      "metadata": {
        "id": "VQjTeg875OcR",
        "colab_type": "text"
      },
      "source": [
        " 2 lines program equivalent to above codings as shown below¶"
      ]
    },
    {
      "cell_type": "code",
      "metadata": {
        "id": "DkeKgWm_5QNi",
        "colab_type": "code",
        "colab": {
          "base_uri": "https://localhost:8080/",
          "height": 103
        },
        "outputId": "3f16c1b8-8836-4741-a257-289ec7b366c4"
      },
      "source": [
        " x=0\n",
        "print('The greatest no is',max([int(input(x)) for _ in range(int(input(\"Enter no\")))]))"
      ],
      "execution_count": 2,
      "outputs": [
        {
          "output_type": "stream",
          "text": [
            "Enter no3\n",
            "3\n",
            "4\n",
            "8\n",
            "The greatest no is 8\n"
          ],
          "name": "stdout"
        }
      ]
    },
    {
      "cell_type": "markdown",
      "metadata": {
        "id": "TE6bECjw5vco",
        "colab_type": "text"
      },
      "source": [
        " Python Program to put the even and odd elements in a list into two different lists."
      ]
    },
    {
      "cell_type": "code",
      "metadata": {
        "id": "F8kj2qtp5wY7",
        "colab_type": "code",
        "colab": {
          "base_uri": "https://localhost:8080/",
          "height": 138
        },
        "outputId": "61b2d0ce-8a1d-430e-c5c0-ac546b92721e"
      },
      "source": [
        " a=[]\n",
        "n=int(input(\"Enter number of elements:\"))\n",
        "for i in range(1,n+1):\n",
        "    b=int(input(\"Enter element:\"))\n",
        "    a.append(b)\n",
        "even=[]\n",
        "odd=[]\n",
        "for j in a:\n",
        "    if(j%2==0):\n",
        "        even.append(j)\n",
        "    else:\n",
        "        odd.append(j)\n",
        "print(\"The even list\",even)\n",
        "print(\"The odd list\",odd)"
      ],
      "execution_count": 3,
      "outputs": [
        {
          "output_type": "stream",
          "text": [
            "Enter number of elements:4\n",
            "Enter element:4\n",
            "Enter element:2\n",
            "Enter element:5\n",
            "Enter element:7\n",
            "The even list [4, 2]\n",
            "The odd list [5, 7]\n"
          ],
          "name": "stdout"
        }
      ]
    },
    {
      "cell_type": "markdown",
      "metadata": {
        "id": "s3YvEFiY7Jxa",
        "colab_type": "text"
      },
      "source": [
        " Python Program to put the even and odd elements in a list into two different lists.¶"
      ]
    },
    {
      "cell_type": "code",
      "metadata": {
        "id": "YRm6s2Q_7Q5P",
        "colab_type": "code",
        "colab": {
          "base_uri": "https://localhost:8080/",
          "height": 121
        },
        "outputId": "fd678063-f99f-4abb-f83c-8b48015c036c"
      },
      "source": [
        " a=[]\n",
        "n=int(input(\"Enter number of elements:\"))\n",
        "for i in range(1,n+1):\n",
        "    b=int(input(\"Enter element:\"))\n",
        "    a.append(b)\n",
        "even=[]\n",
        "odd=[]\n",
        "for j in a:\n",
        "    if(j%2==0):\n",
        "        even.append(j)\n",
        "    else:\n",
        "        odd.append(j)\n",
        "print(\"The even list\",even)\n",
        "print(\"The odd list\",odd)"
      ],
      "execution_count": 4,
      "outputs": [
        {
          "output_type": "stream",
          "text": [
            "Enter number of elements:3\n",
            "Enter element:3\n",
            "Enter element:2\n",
            "Enter element:1\n",
            "The even list [2]\n",
            "The odd list [3, 1]\n"
          ],
          "name": "stdout"
        }
      ]
    },
    {
      "cell_type": "markdown",
      "metadata": {
        "id": "1CDleIUj7ouX",
        "colab_type": "text"
      },
      "source": [
        " Instead of forementioned 14 lines program, the equivalent 4 lines program"
      ]
    },
    {
      "cell_type": "code",
      "metadata": {
        "id": "qw5BzuiB7pgg",
        "colab_type": "code",
        "colab": {
          "base_uri": "https://localhost:8080/",
          "height": 103
        },
        "outputId": "4b8051cf-1cab-4ec7-e730-22c7bd216b16"
      },
      "source": [
        " x=0\n",
        "l=[int(input(x)) for _ in range(int(input(\"Enter n\")))]\n",
        "print('even list is',[ i for i in l if i%2])\n",
        "print('odd list is',[i for i in l if not i%2])"
      ],
      "execution_count": 5,
      "outputs": [
        {
          "output_type": "stream",
          "text": [
            "Enter n2\n",
            "6\n",
            "9\n",
            "even list is [9]\n",
            "odd list is [6]\n"
          ],
          "name": "stdout"
        }
      ]
    },
    {
      "cell_type": "markdown",
      "metadata": {
        "id": "5IGhJ9197y0j",
        "colab_type": "text"
      },
      "source": [
        " Python Program to merge two lists and sort it.¶"
      ]
    },
    {
      "cell_type": "code",
      "metadata": {
        "id": "mA0gGA6H75bO",
        "colab_type": "code",
        "colab": {
          "base_uri": "https://localhost:8080/",
          "height": 210
        },
        "outputId": "81edc65e-bbfa-44e0-ee67-529af10a3b92"
      },
      "source": [
        " a=[]\n",
        "c=[]\n",
        "n1=int(input(\"Enter number of elements:\"))\n",
        "for i in range(1,n1+1):\n",
        "    b=int(input(\"Enter element:\"))\n",
        "    a.append(b)\n",
        "n2=int(input(\"Enter number of elements:\"))\n",
        "for i in range(1,n2+1):\n",
        "    d=int(input(\"Enter element:\"))\n",
        "    c.append(d)\n",
        "new=a+c\n",
        "new.sort()\n",
        "print(\"Sorted list is:\",new)"
      ],
      "execution_count": 7,
      "outputs": [
        {
          "output_type": "stream",
          "text": [
            "Enter number of elements:4\n",
            "Enter element:56\n",
            "Enter element:78\n",
            "Enter element:89\n",
            "Enter element:58\n",
            "Enter number of elements:3\n",
            "Enter element:4\n",
            "Enter element:78\n",
            "Enter element:74\n",
            "Sorted list is: [4, 56, 58, 74, 78, 78, 89]\n"
          ],
          "name": "stdout"
        }
      ]
    },
    {
      "cell_type": "markdown",
      "metadata": {
        "id": "n1ACoLkc8f26",
        "colab_type": "text"
      },
      "source": [
        " Instead of forementioned 13 lines program, the equivalent 5 lines program¶"
      ]
    },
    {
      "cell_type": "code",
      "metadata": {
        "id": "AbayaF-H8gqB",
        "colab_type": "code",
        "colab": {
          "base_uri": "https://localhost:8080/",
          "height": 175
        },
        "outputId": "0c5ebbfc-174c-4da9-e5af-1d2f5735569b"
      },
      "source": [
        " x=0\n",
        "l=[int(input(x)) for _ in range(int(input(\"Enter how many elements\")))]\n",
        "m=[int(input(x)) for _ in range(int(input(\"Enter how many elements \")))]\n",
        "new=l+m\n",
        "new.sort()\n",
        "print(\"Sorted list is:\",new)"
      ],
      "execution_count": 8,
      "outputs": [
        {
          "output_type": "stream",
          "text": [
            "Enter how many elements3\n",
            "2\n",
            "7\n",
            "3\n",
            "Enter how many elements 2\n",
            "45\n",
            "22\n",
            "Sorted list is: [2, 3, 7, 22, 45]\n"
          ],
          "name": "stdout"
        }
      ]
    },
    {
      "cell_type": "markdown",
      "metadata": {
        "id": "4crz25FLB5W7",
        "colab_type": "text"
      },
      "source": [
        " Python Program to sort the list according to the second element in the sublist.¶"
      ]
    },
    {
      "cell_type": "code",
      "metadata": {
        "id": "FieBupV7B8iC",
        "colab_type": "code",
        "colab": {}
      },
      "source": [
        " a=[['A',34],['B',21],['C',26],['E',29]]\n",
        "for i in range(0,len(a)):\n",
        "    for j in range(i+1,len(a)):\n",
        "        if(a[i][1]>a[j][1]):\n",
        "            temp=a[j]\n",
        "            a[j]=a[i]\n",
        "            a[i]=temp\n",
        "print(a)"
      ],
      "execution_count": null,
      "outputs": []
    },
    {
      "cell_type": "markdown",
      "metadata": {
        "id": "9TegcM0V2OUH",
        "colab_type": "text"
      },
      "source": [
        ""
      ]
    }
  ]
}