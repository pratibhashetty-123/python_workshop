{
  "nbformat": 4,
  "nbformat_minor": 0,
  "metadata": {
    "colab": {
      "name": "Untitled15.ipynb",
      "provenance": [],
      "authorship_tag": "ABX9TyO5nR9wO76mszz2Qa1sFJJ4",
      "include_colab_link": true
    },
    "kernelspec": {
      "name": "python3",
      "display_name": "Python 3"
    }
  },
  "cells": [
    {
      "cell_type": "markdown",
      "metadata": {
        "id": "view-in-github",
        "colab_type": "text"
      },
      "source": [
        "<a href=\"https://colab.research.google.com/github/pratibhashetty-123/python_workshop/blob/master/Day1_sec2_exercise.ipynb\" target=\"_parent\"><img src=\"https://colab.research.google.com/assets/colab-badge.svg\" alt=\"Open In Colab\"/></a>"
      ]
    },
    {
      "cell_type": "code",
      "metadata": {
        "id": "yj0vBfvtr8D1",
        "colab_type": "code",
        "colab": {}
      },
      "source": [
        ""
      ],
      "execution_count": null,
      "outputs": []
    },
    {
      "cell_type": "markdown",
      "metadata": {
        "id": "I-1GzqiPt7bF",
        "colab_type": "text"
      },
      "source": [
        " 1.Write a program to print the triangle¶i/p 412 33 4 54 5 6 7"
      ]
    },
    {
      "cell_type": "code",
      "metadata": {
        "id": "XlvSOFkst9dt",
        "colab_type": "code",
        "colab": {
          "base_uri": "https://localhost:8080/",
          "height": 86
        },
        "outputId": "429bb06e-114e-45d3-fb0c-f87b673fb833"
      },
      "source": [
        " currentNumber = 1\n",
        "rows = 4  # Rows you want in your pattern\n",
        "stop = 1\n",
        "for i in range(rows):\n",
        "    for column in range(1, stop):\n",
        "        print(currentNumber, end=' ')\n",
        "        currentNumber +=1\n",
        "    print(\"\")\n",
        "    stop += 1"
      ],
      "execution_count": 1,
      "outputs": [
        {
          "output_type": "stream",
          "text": [
            "\n",
            "1 \n",
            "2 3 \n",
            "4 5 6 \n"
          ],
          "name": "stdout"
        }
      ]
    },
    {
      "cell_type": "markdown",
      "metadata": {
        "id": "fcbPtsJ5uKyw",
        "colab_type": "text"
      },
      "source": [
        " 2.Write a program to print the triangle:i/p 4**"
      ]
    },
    {
      "cell_type": "code",
      "metadata": {
        "id": "eDIzuNY3uMCR",
        "colab_type": "code",
        "colab": {
          "base_uri": "https://localhost:8080/",
          "height": 86
        },
        "outputId": "342dcb86-2b66-456e-ab91-3f910b65348f"
      },
      "source": [
        " rows = 4\n",
        "for i in range(0, rows):\n",
        "    for j in range(0, i + 1):\n",
        "        print(\"*\", end=' ')\n",
        " \n",
        "    print(\"\\r\")"
      ],
      "execution_count": 2,
      "outputs": [
        {
          "output_type": "stream",
          "text": [
            "* \r\n",
            "* * \r\n",
            "* * * \r\n",
            "* * * * \r\n"
          ],
          "name": "stdout"
        }
      ]
    },
    {
      "cell_type": "markdown",
      "metadata": {
        "id": "g8mkAYu5uU44",
        "colab_type": "text"
      },
      "source": [
        " 3.Write a program to print the trianglei/p 55¶4 53 4 52 3 4 51 2 3 4 5"
      ]
    },
    {
      "cell_type": "code",
      "metadata": {
        "id": "nrBLAfRSuV5T",
        "colab_type": "code",
        "colab": {
          "base_uri": "https://localhost:8080/",
          "height": 103
        },
        "outputId": "1e76e313-1ab9-4077-f5d4-bb869b9ad2a7"
      },
      "source": [
        " for i in range(5,0,-1):\n",
        "    for j in range(i,6):\n",
        "        print(j,end='')\n",
        "    print()"
      ],
      "execution_count": 3,
      "outputs": [
        {
          "output_type": "stream",
          "text": [
            "5\n",
            "45\n",
            "345\n",
            "2345\n",
            "12345\n"
          ],
          "name": "stdout"
        }
      ]
    },
    {
      "cell_type": "markdown",
      "metadata": {
        "id": "akn17vp0ub3I",
        "colab_type": "text"
      },
      "source": [
        " 4.Write a program to print the triangle:i/p 55 4 3 2 14 3 2 13 2 12 11"
      ]
    },
    {
      "cell_type": "code",
      "metadata": {
        "id": "j_0oicxFuf9s",
        "colab_type": "code",
        "colab": {
          "base_uri": "https://localhost:8080/",
          "height": 121
        },
        "outputId": "a10d8b19-e706-417a-98ca-e9e3ba26416f"
      },
      "source": [
        " rows = 5\n",
        "for i in range(0, rows + 1):\n",
        "    for j in range(rows - i, 0, -1):\n",
        "        print(j, end=' ')\n",
        "    print()"
      ],
      "execution_count": 4,
      "outputs": [
        {
          "output_type": "stream",
          "text": [
            "5 4 3 2 1 \n",
            "4 3 2 1 \n",
            "3 2 1 \n",
            "2 1 \n",
            "1 \n",
            "\n"
          ],
          "name": "stdout"
        }
      ]
    },
    {
      "cell_type": "markdown",
      "metadata": {
        "id": "ffQnKFX_ungy",
        "colab_type": "text"
      },
      "source": [
        " 5.Write a program to print the triangle:i/p 41 2 3 4¶2 3 43 443 42 3 41 2 3 4"
      ]
    },
    {
      "cell_type": "code",
      "metadata": {
        "id": "0OdS_L_bus8_",
        "colab_type": "code",
        "colab": {}
      },
      "source": [
        ""
      ],
      "execution_count": null,
      "outputs": []
    },
    {
      "cell_type": "markdown",
      "metadata": {
        "id": "ztwAb4V2uzky",
        "colab_type": "text"
      },
      "source": [
        " 6.Find the length of a string without using len functions"
      ]
    },
    {
      "cell_type": "code",
      "metadata": {
        "id": "e0NxHrTAu0kv",
        "colab_type": "code",
        "colab": {
          "base_uri": "https://localhost:8080/",
          "height": 51
        },
        "outputId": "bfc2286d-652b-48a8-8932-4e04f9016b0d"
      },
      "source": [
        " str = input(\"Enter a string: \")\n",
        " \n",
        "# counter variable to count the character in a string\n",
        "counter = 0\n",
        "for s in str:\n",
        "      counter = counter+1\n",
        "print(\"Length of the input string is:\", counter)"
      ],
      "execution_count": 5,
      "outputs": [
        {
          "output_type": "stream",
          "text": [
            "Enter a string: Pratibha\n",
            "Length of the input string is: 8\n"
          ],
          "name": "stdout"
        }
      ]
    },
    {
      "cell_type": "markdown",
      "metadata": {
        "id": "vtEEBaTRu-SJ",
        "colab_type": "text"
      },
      "source": [
        " 7.Find the no of words and characters in a string¶"
      ]
    },
    {
      "cell_type": "code",
      "metadata": {
        "id": "emjpkSWNu_GC",
        "colab_type": "code",
        "colab": {
          "base_uri": "https://localhost:8080/",
          "height": 123
        },
        "outputId": "beb354fc-3055-49cb-edde-286d35bbcc87"
      },
      "source": [
        " string = input(\"Enter string:\")\n",
        "char=0\n",
        "word=1\n",
        "for i in string:\n",
        "      char=char+1\n",
        "      if(i==' '):\n",
        "            word=word+1\n",
        "print(\"Number of words in the string:\")\n",
        "print(word)\n",
        "print(\"Number of characters in the string:\")\n",
        "print(char)"
      ],
      "execution_count": 6,
      "outputs": [
        {
          "output_type": "stream",
          "text": [
            "Enter string:Pratibha\n",
            "Number of words in the string:\n",
            "1\n",
            "Number of characters in the string:\n",
            "8\n"
          ],
          "name": "stdout"
        }
      ]
    },
    {
      "cell_type": "markdown",
      "metadata": {
        "id": "j0RTVjecvLnl",
        "colab_type": "text"
      },
      "source": [
        " 8.Find the no of occurrences of a word in a string¶"
      ]
    },
    {
      "cell_type": "code",
      "metadata": {
        "id": "_LIKcycpvMZi",
        "colab_type": "code",
        "colab": {
          "base_uri": "https://localhost:8080/",
          "height": 34
        },
        "outputId": "cd6f4b8a-1a32-4602-b964-e4aa103785d3"
      },
      "source": [
        " # define string\n",
        "string = \"Python is awesome, isn't it?\"\n",
        "substring = \"is\"\n",
        " \n",
        "count = string.count(substring)\n",
        " \n",
        "# print count\n",
        "print(\"The count is:\", count)"
      ],
      "execution_count": 7,
      "outputs": [
        {
          "output_type": "stream",
          "text": [
            "The count is: 2\n"
          ],
          "name": "stdout"
        }
      ]
    }
  ]
}