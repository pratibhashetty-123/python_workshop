{
  "nbformat": 4,
  "nbformat_minor": 0,
  "metadata": {
    "colab": {
      "name": "Untitled14.ipynb",
      "provenance": [],
      "authorship_tag": "ABX9TyP35aBwHHG7BMGh/3p0XDT7",
      "include_colab_link": true
    },
    "kernelspec": {
      "name": "python3",
      "display_name": "Python 3"
    }
  },
  "cells": [
    {
      "cell_type": "markdown",
      "metadata": {
        "id": "view-in-github",
        "colab_type": "text"
      },
      "source": [
        "<a href=\"https://colab.research.google.com/github/pratibhashetty-123/python_workshop/blob/master/Day1_sec1_exercise.ipynb\" target=\"_parent\"><img src=\"https://colab.research.google.com/assets/colab-badge.svg\" alt=\"Open In Colab\"/></a>"
      ]
    },
    {
      "cell_type": "code",
      "metadata": {
        "id": "ipOdBihnUDWD",
        "colab_type": "code",
        "colab": {}
      },
      "source": [
        ""
      ],
      "execution_count": null,
      "outputs": []
    },
    {
      "cell_type": "markdown",
      "metadata": {
        "id": "hUXF_nPWUGZE",
        "colab_type": "text"
      },
      "source": [
        " Find compound interest"
      ]
    },
    {
      "cell_type": "code",
      "metadata": {
        "id": "TWnwCZBHUNKn",
        "colab_type": "code",
        "colab": {
          "base_uri": "https://localhost:8080/",
          "height": 54
        },
        "outputId": "00583c4c-e679-4b30-e9af-eaf775876477"
      },
      "source": [
        " def compound_interest(principle, rate, n): \n",
        " \n",
        "  \n",
        " \n",
        "    # Calculates compound interest  \n",
        " \n",
        "    Amount = principle * (pow((1 +(n * rate) / 100), n)) \n",
        " \n",
        "    CI = Amount - principle \n",
        " \n",
        "    print(\"Compound interest is\", CI) \n",
        " \n",
        "  \n",
        "# Driver Code  \n",
        " \n",
        "compound_interest(10000, 10.25, 5)"
      ],
      "execution_count": 1,
      "outputs": [
        {
          "output_type": "stream",
          "text": [
            "Compound interest is 69154.73816223144\n"
          ],
          "name": "stdout"
        }
      ]
    },
    {
      "cell_type": "markdown",
      "metadata": {
        "id": "iijR5QBGUYKQ",
        "colab_type": "text"
      },
      "source": [
        "Convert centigraye to farenhiet"
      ]
    },
    {
      "cell_type": "code",
      "metadata": {
        "id": "ek4RO1RgUjFU",
        "colab_type": "code",
        "colab": {
          "base_uri": "https://localhost:8080/",
          "height": 71
        },
        "outputId": "0b212ca0-d113-4956-a91b-21c5f7b827cd"
      },
      "source": [
        " celsius = float(input(\"Enter temperature in celsius: \"))\n",
        "fahrenheit = (celsius * 9/5) + 32\n",
        "print('%.2f Celsius is: %0.2f Fahrenheit' %(celsius, fahrenheit))"
      ],
      "execution_count": 2,
      "outputs": [
        {
          "output_type": "stream",
          "text": [
            "Enter temperature in celsius: 26\n",
            "26.00 Celsius is: 78.80 Fahrenheit\n"
          ],
          "name": "stdout"
        }
      ]
    },
    {
      "cell_type": "markdown",
      "metadata": {
        "id": "duh0VLoZUpuV",
        "colab_type": "text"
      },
      "source": [
        " Find grater number"
      ]
    },
    {
      "cell_type": "code",
      "metadata": {
        "id": "OUbhH1W5Uz3M",
        "colab_type": "code",
        "colab": {
          "base_uri": "https://localhost:8080/",
          "height": 69
        },
        "outputId": "3ea9168f-1b3f-4c04-9530-1cc59c752a5f"
      },
      "source": [
        " # Python Program to find Largest of two Numbers using if-else statements\n",
        "a = int(input(\"Enter the first number: \"))\n",
        "b = int(input(\"Enter the second number: \"))\n",
        "if(a >= b):\n",
        "  print(a, \"is greater\")\n",
        "else:\n",
        "  print(b, \"is greater\")"
      ],
      "execution_count": 3,
      "outputs": [
        {
          "output_type": "stream",
          "text": [
            "Enter the first number: 25\n",
            "Enter the second number: 45\n",
            "45 is greater\n"
          ],
          "name": "stdout"
        }
      ]
    },
    {
      "cell_type": "markdown",
      "metadata": {
        "id": "2brLF_jQU-Nn",
        "colab_type": "text"
      },
      "source": [
        "Finding surface area program"
      ]
    },
    {
      "cell_type": "code",
      "metadata": {
        "id": "UHDEHAmeVBzy",
        "colab_type": "code",
        "colab": {
          "base_uri": "https://localhost:8080/",
          "height": 71
        },
        "outputId": "c70d56c3-2825-44c8-efe1-a7d0ade57f4e"
      },
      "source": [
        " import math \n",
        " \n",
        "pi = math.pi \n",
        "# Function To Calculate Surface Area of Cone \n",
        " \n",
        "def surfacearea(r, s): \n",
        " \n",
        "    return pi * r * s + pi * r * r \n",
        " \n",
        "# Function To Calculate Total Surface Area \n",
        "# of Cylinder \n",
        " \n",
        "def totalsurfacearea(r, h): \n",
        " \n",
        "    tsurf_ar = (2 * pi * r * h) + (2 * pi * r * r) \n",
        " \n",
        "    return tsurf_ar \n",
        "  \n",
        "# Driver Code \n",
        " \n",
        "radius = float(5) \n",
        " \n",
        "height = float(12) \n",
        " \n",
        "slat_height = float(13) \n",
        " \n",
        "r = 5\n",
        " \n",
        "h = 8\n",
        "print( \"Surface Area Of Cone : \", surfacearea(radius, slat_height) )\n",
        " \n",
        "print(\"Total  Surface Area  Of Cylinder =  \",totalsurfacearea(r,h))"
      ],
      "execution_count": 4,
      "outputs": [
        {
          "output_type": "stream",
          "text": [
            "Surface Area Of Cone :  282.7433388230814\n",
            "Total  Surface Area  Of Cylinder =   408.4070449666731\n"
          ],
          "name": "stdout"
        }
      ]
    },
    {
      "cell_type": "markdown",
      "metadata": {
        "id": "RGTwZZa0VNHh",
        "colab_type": "text"
      },
      "source": [
        "Find gretest of 4 number"
      ]
    },
    {
      "cell_type": "code",
      "metadata": {
        "id": "oRlLE1DfVPz9",
        "colab_type": "code",
        "colab": {
          "base_uri": "https://localhost:8080/",
          "height": 54
        },
        "outputId": "39a256d3-65d7-49f5-f503-551221afa773"
      },
      "source": [
        " n1 = 5\n",
        " \n",
        "n2 = 10\n",
        " \n",
        "n3 = 15\n",
        " \n",
        "n4 = 20\n",
        " \n",
        "  \n",
        " \n",
        "mx = (n1 if (n1 > n2 and n1 > n2 and n1 > n4)  \n",
        " \n",
        "         else (n2 if (n2 > n3 and n3 > n4)  \n",
        " \n",
        "         else (n3 if n3 > n4 else n4))) \n",
        " \n",
        "  \n",
        "# str() function is used to convert  \n",
        "# integer to string, it is required  \n",
        "# as we are concatenating integers \n",
        "# with string \n",
        " \n",
        "print(\"Largest number among \" + str(n1) + \", \" + \n",
        " \n",
        "            str(n2) + \", \" + str(n3) + \" and \" + \n",
        " \n",
        "            str(n4) + \" is \" + str(mx))"
      ],
      "execution_count": 5,
      "outputs": [
        {
          "output_type": "stream",
          "text": [
            "Largest number among 5, 10, 15 and 20 is 20\n"
          ],
          "name": "stdout"
        }
      ]
    },
    {
      "cell_type": "markdown",
      "metadata": {
        "id": "gNYm8KUPVTds",
        "colab_type": "text"
      },
      "source": [
        " Menu program to find odd or even"
      ]
    },
    {
      "cell_type": "code",
      "metadata": {
        "id": "jlavTyKRVfc5",
        "colab_type": "code",
        "colab": {
          "base_uri": "https://localhost:8080/",
          "height": 646
        },
        "outputId": "269c8b58-5b8e-4d54-b3cf-cd9a250d2b49"
      },
      "source": [
        " def odd_even(num):\n",
        "  if num%2==0:\n",
        "    print(\"The number is even\")\n",
        "  else:\n",
        "    print(\"The number is odd\")\n",
        " \n",
        "def fact(num):\n",
        "  fact=1\n",
        "  if num==0:\n",
        "    print(\"Factorial of 0 is 1\")\n",
        "  else:\n",
        "    for i in range(1,num+1):\n",
        "      fact=fact*i\n",
        "    print(\"The factorial of\",num,\"is\",fact)\n",
        " \n",
        "def odd(num):\n",
        "  for i in range(0,num+1):\n",
        "    if (i%2)!=0:\n",
        "      print(i)\n",
        " \n",
        "def prime(num):\n",
        "  for num in range(1, num+1):\n",
        "    if num > 1:\n",
        "       for i in range(2, num):\n",
        "           if (num % i) == 0:\n",
        "               break\n",
        "       else:\n",
        "           print(num)\n",
        " \n",
        "loop=1\n",
        "choice=0\n",
        "while loop == 1:\n",
        "  print (\"Welcome to menu\")\n",
        "  print (\"your options are:\")\n",
        "  print (\" \")\n",
        "  print(\"1) Find odd or even number\")\n",
        "  print(\"2) find factorial\")\n",
        "  print(\"3) find all odd number\")\n",
        "  print(\"4) find prime number\")\n",
        "    \n",
        "  print(\" \")\n",
        "  try:\n",
        "    choice = int(input(\"Choose your option: \"))\n",
        "  except:\n",
        "    print('please enter a valid number for option')\n",
        "    print(\" \")\n",
        "    print(\" \")\n",
        " \n",
        "  if choice==1:\n",
        "    number=int(input(\"enter the number:\"))\n",
        "    print(\"Result:\",odd_even(number))\n",
        "  elif choice==2:\n",
        "    number=int(input(\"enter the number:\"))\n",
        "    print(\"Result:\",fact(number))\n",
        "  elif choice==3:\n",
        "    number=int(input(\"enter the number:\"))\n",
        "    print(\"Result:\",odd(number))\n",
        "  elif choice==4:\n",
        "    number=int(input(\"enter the number:\"))\n",
        "    print(\"Result:\",prime(number))\n",
        "  elif choice == 5:\n",
        "    loop = 0\n",
        "     \n",
        "  else:\n",
        "    print(\"please choice a valid option from 1 to 5\")\n",
        "    choice=0"
      ],
      "execution_count": null,
      "outputs": [
        {
          "output_type": "stream",
          "text": [
            "Welcome to menu\n",
            "your options are:\n",
            " \n",
            "1) Find odd or even number\n",
            "2) find factorial\n",
            "3) find all odd number\n",
            "4) find prime number\n",
            " \n",
            "Choose your option: 1\n",
            "enter the number:26\n",
            "The number is even\n",
            "Result: None\n",
            "Welcome to menu\n",
            "your options are:\n",
            " \n",
            "1) Find odd or even number\n",
            "2) find factorial\n",
            "3) find all odd number\n",
            "4) find prime number\n",
            " \n",
            "Choose your option: 3\n",
            "enter the number:6\n",
            "1\n",
            "3\n",
            "5\n",
            "Result: None\n",
            "Welcome to menu\n",
            "your options are:\n",
            " \n",
            "1) Find odd or even number\n",
            "2) find factorial\n",
            "3) find all odd number\n",
            "4) find prime number\n",
            " \n"
          ],
          "name": "stdout"
        }
      ]
    }
  ]
}