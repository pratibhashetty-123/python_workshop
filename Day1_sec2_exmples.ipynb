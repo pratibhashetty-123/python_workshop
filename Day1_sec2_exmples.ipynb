{
  "nbformat": 4,
  "nbformat_minor": 0,
  "metadata": {
    "colab": {
      "name": "Untitled13.ipynb",
      "provenance": [],
      "authorship_tag": "ABX9TyNTl6NAlQ0ru5i6ZPPYNWRv",
      "include_colab_link": true
    },
    "kernelspec": {
      "name": "python3",
      "display_name": "Python 3"
    }
  },
  "cells": [
    {
      "cell_type": "markdown",
      "metadata": {
        "id": "view-in-github",
        "colab_type": "text"
      },
      "source": [
        "<a href=\"https://colab.research.google.com/github/pratibhashetty-123/python_workshop/blob/master/Day1_sec2_exmples.ipynb\" target=\"_parent\"><img src=\"https://colab.research.google.com/assets/colab-badge.svg\" alt=\"Open In Colab\"/></a>"
      ]
    },
    {
      "cell_type": "code",
      "metadata": {
        "id": "b1Y9lbuIF0eJ",
        "colab_type": "code",
        "colab": {}
      },
      "source": [
        ""
      ],
      "execution_count": null,
      "outputs": []
    },
    {
      "cell_type": "markdown",
      "metadata": {
        "id": "5mIUPqVrF3Y1",
        "colab_type": "text"
      },
      "source": [
        " Find the factorial"
      ]
    },
    {
      "cell_type": "code",
      "metadata": {
        "id": "-JT3twZoF8H7",
        "colab_type": "code",
        "colab": {
          "base_uri": "https://localhost:8080/",
          "height": 69
        },
        "outputId": "c6131b2f-3469-4f00-e94b-c14edb33c280"
      },
      "source": [
        " n=int(input(\"Enter number:\"))\n",
        "fact=1\n",
        " \n",
        "while(n>0):\n",
        "    fact=fact*n\n",
        "    n=n-1\n",
        "print(\"Factorial of the number is: \")\n",
        "print(fact)"
      ],
      "execution_count": 1,
      "outputs": [
        {
          "output_type": "stream",
          "text": [
            "Enter number:5\n",
            "Factorial of the number is: \n",
            "120\n"
          ],
          "name": "stdout"
        }
      ]
    },
    {
      "cell_type": "markdown",
      "metadata": {
        "id": "JM9lIUEZGq1e",
        "colab_type": "text"
      },
      "source": [
        "Python pgm to reverse number"
      ]
    },
    {
      "cell_type": "code",
      "metadata": {
        "id": "C_2Bhc9HGwn6",
        "colab_type": "code",
        "colab": {
          "base_uri": "https://localhost:8080/",
          "height": 69
        },
        "outputId": "3636800e-8ab5-49bc-b18e-286aed13b9d4"
      },
      "source": [
        " r=0\n",
        "n=int(input(\"Enter a number: \"))\n",
        "while(n>0):\n",
        "    dig=n%10\n",
        "    r=r*10+dig\n",
        "    n=n//10\n",
        "print(\"The reversed no  is:\")\n",
        "print(r)"
      ],
      "execution_count": 2,
      "outputs": [
        {
          "output_type": "stream",
          "text": [
            "Enter a number: 13536\n",
            "The reversed no  is:\n",
            "63531\n"
          ],
          "name": "stdout"
        }
      ]
    },
    {
      "cell_type": "markdown",
      "metadata": {
        "id": "s7DLZxK9HHU4",
        "colab_type": "text"
      },
      "source": [
        "Pattern program"
      ]
    },
    {
      "cell_type": "code",
      "metadata": {
        "id": "C0X2DL-GHJbA",
        "colab_type": "code",
        "colab": {
          "base_uri": "https://localhost:8080/",
          "height": 190
        },
        "outputId": "5da5d7ba-42b8-4530-8418-8b08bba60f06"
      },
      "source": [
        " n=5;\n",
        "for i in range(n):\n",
        "    for j in range(i):\n",
        "        print ('* ', end=\"\")\n",
        "    print('')\n",
        " \n",
        "for i in range(n,0,-1):\n",
        "    for j in range(i):\n",
        "        print('* ', end=\"\")\n",
        "    print('')"
      ],
      "execution_count": 3,
      "outputs": [
        {
          "output_type": "stream",
          "text": [
            "\n",
            "* \n",
            "* * \n",
            "* * * \n",
            "* * * * \n",
            "* * * * * \n",
            "* * * * \n",
            "* * * \n",
            "* * \n",
            "* \n"
          ],
          "name": "stdout"
        }
      ]
    },
    {
      "cell_type": "code",
      "metadata": {
        "id": "7LVZMi6WHb39",
        "colab_type": "code",
        "colab": {}
      },
      "source": [
        ""
      ],
      "execution_count": null,
      "outputs": []
    },
    {
      "cell_type": "markdown",
      "metadata": {
        "id": "W7jTzkjYHccb",
        "colab_type": "text"
      },
      "source": [
        "Program to replace the a with$"
      ]
    },
    {
      "cell_type": "code",
      "metadata": {
        "id": "uLFHrHVjHkLi",
        "colab_type": "code",
        "colab": {
          "base_uri": "https://localhost:8080/",
          "height": 69
        },
        "outputId": "efe50bbb-4c6d-45d5-d37e-957c232e089d"
      },
      "source": [
        "string=input(\"Enter string:\")\n",
        "string=string.replace('a','$')\n",
        "string=string.replace('A','$')\n",
        "print(\"Modified string:\")\n",
        "print(string)"
      ],
      "execution_count": 7,
      "outputs": [
        {
          "output_type": "stream",
          "text": [
            "Enter string:Pratibha\n",
            "Modified string:\n",
            "Pr$tibh$\n"
          ],
          "name": "stdout"
        }
      ]
    },
    {
      "cell_type": "markdown",
      "metadata": {
        "id": "1-lnQuyeIN4p",
        "colab_type": "text"
      },
      "source": [
        "Program to replace Nth index"
      ]
    },
    {
      "cell_type": "code",
      "metadata": {
        "id": "iH-6e3I1IWQG",
        "colab_type": "code",
        "colab": {
          "base_uri": "https://localhost:8080/",
          "height": 106
        },
        "outputId": "0a2f64b6-13c1-43ba-d71d-3a76e41dc0e7"
      },
      "source": [
        " def remove(string, n):  \n",
        "      first = string[:n]   \n",
        "      last = string[n+1:]  \n",
        "      return first + last\n",
        "string=input(\"Enter the sring:\")\n",
        "n=int(input(\"Enter the index of the character to remove:\"))\n",
        "print(\"Modified string:\")\n",
        "print(remove(string, n))"
      ],
      "execution_count": 9,
      "outputs": [
        {
          "output_type": "stream",
          "text": [
            "Enter the sring:Pratibha\n",
            "Enter the index of the character to remove:3\n",
            "Modified string:\n",
            "Praibha\n"
          ],
          "name": "stdout"
        }
      ]
    },
    {
      "cell_type": "markdown",
      "metadata": {
        "id": "6hxlvF_zIyxw",
        "colab_type": "text"
      },
      "source": [
        "Program for value eror detection"
      ]
    },
    {
      "cell_type": "code",
      "metadata": {
        "id": "18bCPfbvI2Hy",
        "colab_type": "code",
        "colab": {
          "base_uri": "https://localhost:8080/",
          "height": 71
        },
        "outputId": "494744ed-fd2c-45c5-ed7f-b699ae095098"
      },
      "source": [
        " while True:\n",
        "     try:\n",
        "         x = int(input(\"Please enter a number: \"))\n",
        "         print(\" That was valid number. Thank you\")\n",
        "         break\n",
        "     except ValueError:\n",
        "         print(\"Oops!  That was no valid number.  Try again...\")"
      ],
      "execution_count": 10,
      "outputs": [
        {
          "output_type": "stream",
          "text": [
            "Please enter a number: 3\n",
            " That was valid number. Thank you\n"
          ],
          "name": "stdout"
        }
      ]
    },
    {
      "cell_type": "markdown",
      "metadata": {
        "id": "cQbwn3jtJCWq",
        "colab_type": "text"
      },
      "source": [
        "Program for ero error detection"
      ]
    },
    {
      "cell_type": "code",
      "metadata": {
        "id": "n52S8SBsJFV9",
        "colab_type": "code",
        "colab": {
          "base_uri": "https://localhost:8080/",
          "height": 262
        },
        "outputId": "8a49ad35-3481-4992-b52f-4ceb8b25bbd6"
      },
      "source": [
        " flag = True\n",
        " \n",
        "def div(a, b):  \n",
        "       try:\n",
        "            print(\"Finally the division of %d/%d is %f\" % (a, b,a/b))\n",
        "            global flag\n",
        "            flag=False\n",
        "       except ZeroDivisionError:\n",
        "            print(\"Zero Division Error detected\")\n",
        "       else:\n",
        "            print(\"Division is successful\") \n",
        "       finally:\n",
        "            if flag is True:\n",
        "               print(\"Try again\")     \n",
        "            else:\n",
        "               print(\"Thank you\")\n",
        "       \n",
        "#global flag\n",
        " \n",
        "while flag is True:\n",
        "    div(int(input(\"Enter numerator\")),int(input(\"Enter denominator\")))"
      ],
      "execution_count": 11,
      "outputs": [
        {
          "output_type": "stream",
          "text": [
            "Enter numerator45\n",
            "Enter denominator0\n",
            "Zero Division Error detected\n",
            "Try again\n",
            "Enter numerator47\n",
            "Enter denominator0\n",
            "Zero Division Error detected\n",
            "Try again\n",
            "Enter numerator4\n",
            "Enter denominator2\n",
            "Finally the division of 4/2 is 2.000000\n",
            "Division is successful\n",
            "Thank you\n"
          ],
          "name": "stdout"
        }
      ]
    },
    {
      "cell_type": "markdown",
      "metadata": {
        "id": "R0uM_KABJhz1",
        "colab_type": "text"
      },
      "source": [
        "Program to count vovela"
      ]
    },
    {
      "cell_type": "code",
      "metadata": {
        "id": "WPrrFZQPJkTX",
        "colab_type": "code",
        "colab": {
          "base_uri": "https://localhost:8080/",
          "height": 69
        },
        "outputId": "ab21a0b4-0ad6-44ad-cf2f-1d0df094e7ee"
      },
      "source": [
        " string=input(\"Enter string:\")\n",
        "vowels=0\n",
        "for i in string:\n",
        "      if(i=='a' or i=='e' or i=='i' or i=='o' or i=='u' or i=='A' or i=='E' or i=='I' or i=='O' or i=='U'):\n",
        "            vowels=vowels+1\n",
        "print(\"Number of vowels are:\")\n",
        "print(vowels)"
      ],
      "execution_count": 12,
      "outputs": [
        {
          "output_type": "stream",
          "text": [
            "Enter string:Afrwui\n",
            "Number of vowels are:\n",
            "3\n"
          ],
          "name": "stdout"
        }
      ]
    },
    {
      "cell_type": "markdown",
      "metadata": {
        "id": "wdc93VolKD2c",
        "colab_type": "text"
      },
      "source": [
        "Program for wher first string and last string exchanged"
      ]
    },
    {
      "cell_type": "code",
      "metadata": {
        "id": "FcGddks4KL8z",
        "colab_type": "code",
        "colab": {
          "base_uri": "https://localhost:8080/",
          "height": 69
        },
        "outputId": "43f966b9-47c9-42a7-8abd-d993bad28d5a"
      },
      "source": [
        " def change(string):\n",
        "      return string[-1:] + string[1:-1] + string[:1]\n",
        "string=input(\"Enter string:\")\n",
        "print(\"Modified string:\")\n",
        "print(change(string))"
      ],
      "execution_count": 13,
      "outputs": [
        {
          "output_type": "stream",
          "text": [
            "Enter string:Pratibha\n",
            "Modified string:\n",
            "aratibhP\n"
          ],
          "name": "stdout"
        }
      ]
    }
  ]
}