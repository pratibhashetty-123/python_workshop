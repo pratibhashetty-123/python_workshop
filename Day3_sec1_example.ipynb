{
  "nbformat": 4,
  "nbformat_minor": 0,
  "metadata": {
    "colab": {
      "name": "Untitled17.ipynb",
      "provenance": [],
      "authorship_tag": "ABX9TyPogB0eIrMEuXYMKC3lu0ep",
      "include_colab_link": true
    },
    "kernelspec": {
      "name": "python3",
      "display_name": "Python 3"
    }
  },
  "cells": [
    {
      "cell_type": "markdown",
      "metadata": {
        "id": "view-in-github",
        "colab_type": "text"
      },
      "source": [
        "<a href=\"https://colab.research.google.com/github/pratibhashetty-123/python_workshop/blob/master/Day3_sec1_example.ipynb\" target=\"_parent\"><img src=\"https://colab.research.google.com/assets/colab-badge.svg\" alt=\"Open In Colab\"/></a>"
      ]
    },
    {
      "cell_type": "code",
      "metadata": {
        "id": "Ua-lrIEOTulk",
        "colab_type": "code",
        "colab": {
          "base_uri": "https://localhost:8080/",
          "height": 34
        },
        "outputId": "248aa4cb-517a-443a-a4b6-69182b1bb316"
      },
      "source": [
        "X = 4\n",
        "print(X>2 and X<8)"
      ],
      "execution_count": 1,
      "outputs": [
        {
          "output_type": "stream",
          "text": [
            "False\n"
          ],
          "name": "stdout"
        }
      ]
    },
    {
      "cell_type": "code",
      "metadata": {
        "id": "cenLUT7EUpqJ",
        "colab_type": "code",
        "colab": {
          "base_uri": "https://localhost:8080/",
          "height": 51
        },
        "outputId": "5684be58-6a7d-4137-a075-fc9840fda642"
      },
      "source": [
        "X,y = 2,None\n",
        "print(X==None)\n",
        "print(y==None)"
      ],
      "execution_count": 2,
      "outputs": [
        {
          "output_type": "stream",
          "text": [
            "False\n",
            "True\n"
          ],
          "name": "stdout"
        }
      ]
    },
    {
      "cell_type": "markdown",
      "metadata": {
        "id": "pbPuHeF9VCwC",
        "colab_type": "text"
      },
      "source": [
        "Iterating sequnce"
      ]
    },
    {
      "cell_type": "code",
      "metadata": {
        "id": "c9P5HbUOVGga",
        "colab_type": "code",
        "colab": {
          "base_uri": "https://localhost:8080/",
          "height": 69
        },
        "outputId": "6b26cd47-c9bc-493d-9412-49d81d108388"
      },
      "source": [
        "x=[2,4,6]\n",
        "for i in range(len(x)):\n",
        "  print(x[i])"
      ],
      "execution_count": 3,
      "outputs": [
        {
          "output_type": "stream",
          "text": [
            "2\n",
            "4\n",
            "6\n"
          ],
          "name": "stdout"
        }
      ]
    },
    {
      "cell_type": "markdown",
      "metadata": {
        "id": "QX3hwFEYVrRD",
        "colab_type": "text"
      },
      "source": [
        "Insted way"
      ]
    },
    {
      "cell_type": "code",
      "metadata": {
        "id": "UWl_2YZIVs60",
        "colab_type": "code",
        "colab": {
          "base_uri": "https://localhost:8080/",
          "height": 69
        },
        "outputId": "6db5d759-912b-4144-a8e7-e41941d41ffe"
      },
      "source": [
        "for item in x:\n",
        "  print(item)"
      ],
      "execution_count": 5,
      "outputs": [
        {
          "output_type": "stream",
          "text": [
            "2\n",
            "4\n",
            "6\n"
          ],
          "name": "stdout"
        }
      ]
    },
    {
      "cell_type": "code",
      "metadata": {
        "id": "2M0loFzHWHn8",
        "colab_type": "code",
        "colab": {
          "base_uri": "https://localhost:8080/",
          "height": 69
        },
        "outputId": "1721ac04-d05a-4565-8afc-06200f656892"
      },
      "source": [
        " for i in range(len(x)-1,-1,-1):\n",
        "  print(x[i])"
      ],
      "execution_count": 6,
      "outputs": [
        {
          "output_type": "stream",
          "text": [
            "6\n",
            "4\n",
            "2\n"
          ],
          "name": "stdout"
        }
      ]
    },
    {
      "cell_type": "markdown",
      "metadata": {
        "id": "m_CFSTKGWsKW",
        "colab_type": "text"
      },
      "source": [
        "Elegent way"
      ]
    },
    {
      "cell_type": "code",
      "metadata": {
        "id": "TDRVxFBMWt3A",
        "colab_type": "code",
        "colab": {
          "base_uri": "https://localhost:8080/",
          "height": 69
        },
        "outputId": "9c3d467e-cf2e-4895-e299-cfd321405447"
      },
      "source": [
        " for item in x[::-1]:\n",
        "  print(item)"
      ],
      "execution_count": 8,
      "outputs": [
        {
          "output_type": "stream",
          "text": [
            "6\n",
            "4\n",
            "2\n"
          ],
          "name": "stdout"
        }
      ]
    },
    {
      "cell_type": "markdown",
      "metadata": {
        "id": "xdbhrTnyXpiW",
        "colab_type": "text"
      },
      "source": [
        "In pythonic way"
      ]
    },
    {
      "cell_type": "markdown",
      "metadata": {
        "id": "34beG_GgXrmK",
        "colab_type": "text"
      },
      "source": [
        ""
      ]
    },
    {
      "cell_type": "markdown",
      "metadata": {
        "id": "HFR0cL1eXr80",
        "colab_type": "text"
      },
      "source": [
        ""
      ]
    },
    {
      "cell_type": "code",
      "metadata": {
        "id": "hAP4ot5YXsTe",
        "colab_type": "code",
        "colab": {
          "base_uri": "https://localhost:8080/",
          "height": 69
        },
        "outputId": "92cbce2c-635b-47c2-9987-723afeed1fb3"
      },
      "source": [
        " for item in reversed(x):\n",
        "  print(item)"
      ],
      "execution_count": 9,
      "outputs": [
        {
          "output_type": "stream",
          "text": [
            "6\n",
            "4\n",
            "2\n"
          ],
          "name": "stdout"
        }
      ]
    },
    {
      "cell_type": "markdown",
      "metadata": {
        "id": "CLhb5LU0YNOy",
        "colab_type": "text"
      },
      "source": [
        "With index number"
      ]
    },
    {
      "cell_type": "code",
      "metadata": {
        "id": "Aadx9iP-YP1o",
        "colab_type": "code",
        "colab": {
          "base_uri": "https://localhost:8080/",
          "height": 69
        },
        "outputId": "10d8b7f8-d4fe-4ffe-c9b4-5d7a59f103a8"
      },
      "source": [
        " for item in enumerate(x):\n",
        "  print(i,item)"
      ],
      "execution_count": 10,
      "outputs": [
        {
          "output_type": "stream",
          "text": [
            "0 (0, 2)\n",
            "0 (1, 4)\n",
            "0 (2, 6)\n"
          ],
          "name": "stdout"
        }
      ]
    },
    {
      "cell_type": "code",
      "metadata": {
        "id": "YYUwpo0mYrmH",
        "colab_type": "code",
        "colab": {
          "base_uri": "https://localhost:8080/",
          "height": 51
        },
        "outputId": "7906cf94-52dc-49d6-b419-34690839bb1a"
      },
      "source": [
        "Z={'a':0,'b':1}\n",
        "for k in Z:\n",
        "  print(k,Z[k])"
      ],
      "execution_count": 12,
      "outputs": [
        {
          "output_type": "stream",
          "text": [
            "a 0\n",
            "b 1\n"
          ],
          "name": "stdout"
        }
      ]
    },
    {
      "cell_type": "code",
      "metadata": {
        "id": "5Nqn11Iwa2c5",
        "colab_type": "code",
        "colab": {
          "base_uri": "https://localhost:8080/",
          "height": 69
        },
        "outputId": "ab4d770f-c1ae-46c5-9120-680cbbdf8628"
      },
      "source": [
        "for item in x:\n",
        "  if(item):\n",
        "    print(item)"
      ],
      "execution_count": 16,
      "outputs": [
        {
          "output_type": "stream",
          "text": [
            "2\n",
            "4\n",
            "6\n"
          ],
          "name": "stdout"
        }
      ]
    },
    {
      "cell_type": "markdown",
      "metadata": {
        "id": "-rUvyJ_qT0eO",
        "colab_type": "text"
      },
      "source": [
        ""
      ]
    }
  ]
}